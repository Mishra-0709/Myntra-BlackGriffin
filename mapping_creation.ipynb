{
  "cells": [
    {
      "cell_type": "markdown",
      "metadata": {
        "id": "view-in-github",
        "colab_type": "text"
      },
      "source": [
        "<a href=\"https://colab.research.google.com/github/Mishra-0709/Myntra-BlackGriffin/blob/main/mapping_creation.ipynb\" target=\"_parent\"><img src=\"https://colab.research.google.com/assets/colab-badge.svg\" alt=\"Open In Colab\"/></a>"
      ]
    },
    {
      "cell_type": "code",
      "execution_count": null,
      "metadata": {
        "id": "uPU9Cu9KX4cG"
      },
      "outputs": [],
      "source": [
        "import stone\n",
        "import cv2\n",
        "import numpy as np\n",
        "import matplotlib.pyplot as plt\n",
        "import torch\n",
        "from PIL import Image\n",
        "from sklearn.cluster import KMeans\n",
        "import random\n",
        "import json"
      ]
    },
    {
      "cell_type": "code",
      "execution_count": null,
      "metadata": {
        "id": "0HtE7AszX4cH"
      },
      "outputs": [],
      "source": [
        "#get some images\n",
        "with open('trainval.txt','r') as file:\n",
        "    lines = file.readlines()\n",
        "\n",
        "    numbers = [int(line.strip()) for line in lines]"
      ]
    },
    {
      "cell_type": "code",
      "execution_count": null,
      "metadata": {
        "id": "qcuof0z6X4cH",
        "outputId": "092ab0fa-e020-4d5e-f27d-c40a1ee7e3e7"
      },
      "outputs": [
        {
          "name": "stderr",
          "output_type": "stream",
          "text": [
            "Using cache found in /Users/kinjalbhattacharyya/.cache/torch/hub/ultralytics_yolov5_master\n",
            "YOLOv5 🚀 2024-4-3 Python-3.11.9 torch-2.2.1 CPU\n",
            "\n",
            "Fusing layers... \n",
            "YOLOv5s summary: 213 layers, 7225885 parameters, 0 gradients, 16.4 GFLOPs\n",
            "Adding AutoShape... \n"
          ]
        }
      ],
      "source": [
        "model = torch.hub.load('ultralytics/yolov5', 'yolov5s', pretrained=True)\n",
        "#our class mappings\n",
        "color_dict = {\n",
        "    \"#373028\": [],\n",
        "    \"#422811\": [],\n",
        "    \"#513B2E\": [],\n",
        "    \"#6F503C\": [],\n",
        "    \"#81654F\": [],\n",
        "    \"#9D7A54\": [],\n",
        "    \"#BEA07E\": [],\n",
        "    \"#E5C8A6\": [],\n",
        "    \"#E7C1B8\": [],\n",
        "    \"#F3DAD6\": [],\n",
        "    \"#FBF2F3\": []\n",
        "}"
      ]
    },
    {
      "cell_type": "code",
      "execution_count": null,
      "metadata": {
        "id": "-fmWm4GFX4cI"
      },
      "outputs": [],
      "source": [
        "#check functions\n",
        "def within_threshold(check, threshold):\n",
        "    avg = sum(check) / 3\n",
        "    if avg > 230:\n",
        "        return True\n",
        "    return all(avg - threshold <= value <= avg + threshold for value in check)\n",
        "\n",
        "\n",
        "def euclidean_sim(arr,check):\n",
        "    for ele in arr:\n",
        "        ele = [e-a for e,a in zip(ele,check)]\n",
        "        res = np.linalg.norm(ele)/442.4\n",
        "        if res<=0.2 :\n",
        "            return False\n",
        "        if within_threshold(check,5):\n",
        "            return False\n",
        "    return True\n"
      ]
    },
    {
      "cell_type": "code",
      "execution_count": null,
      "metadata": {
        "id": "syNxpVkGX4cJ"
      },
      "outputs": [],
      "source": [
        "#function to extract these things:\n",
        "def getSkinToneClothColor(image_path):\n",
        "    res = stone.process(image_path,'color')\n",
        "    skin_tone = res['faces'][0]['skin_tone']\n",
        "\n",
        "    image = cv2.imread(image_path)\n",
        "    results = model(image)\n",
        "\n",
        "    cropped_image = cv2.imread(image_path)\n",
        "    labels = results.xyxyn[0][:, -1].numpy()\n",
        "    coords = results.xyxyn[0][:, :-1].numpy()\n",
        "\n",
        "    for i in range(0,len(labels)):\n",
        "        #as 0 represents person in coco dataset\n",
        "        if labels[i]==0:\n",
        "            x1,y1,x2,y2,pred = coords[i]\n",
        "            height,width,_ = image.shape\n",
        "            x1, y1, x2, y2 = int(x1 * width), int(y1 * height), int(x2 * width), int(y2 * height)\n",
        "            cropped_image = cropped_image[y1:y2, x1:x2]\n",
        "            break\n",
        "\n",
        "    height, width, _ = np.shape(cropped_image)\n",
        "    data = np.reshape(cropped_image, (height * width, 3))\n",
        "    data = np.float32(data)\n",
        "\n",
        "    number_clusters = 7\n",
        "    kmeans = KMeans(n_clusters=number_clusters)\n",
        "    kmeans.fit(data)\n",
        "\n",
        "    centers = kmeans.cluster_centers_\n",
        "    labels = kmeans.labels_\n",
        "    rgb_values = []\n",
        "\n",
        "    for index, row in enumerate(centers):\n",
        "        # Extract RGB values from the row\n",
        "        b, g, r = int(row[0]), int(row[1]), int(row[2])\n",
        "        #put a check of cosine similarity\n",
        "        if euclidean_sim(rgb_values,[r,g,b]):\n",
        "            rgb_values.append([r, g, b])\n",
        "\n",
        "    return skin_tone,rgb_values"
      ]
    },
    {
      "cell_type": "code",
      "execution_count": null,
      "metadata": {
        "id": "jZa7FBUIX4cJ"
      },
      "outputs": [],
      "source": [
        "for i in range(1001,2000):\n",
        "    path = './JPEGImages/'+ str(numbers[i])+'.jpg'\n",
        "    skintone,values = getSkinToneClothColor(path)\n",
        "    temp = color_dict[skintone]\n",
        "    for color in values:\n",
        "        if euclidean_sim(temp,color):\n",
        "            temp.append(color)\n",
        "    color_dict[skintone] = temp"
      ]
    },
    {
      "cell_type": "code",
      "execution_count": null,
      "metadata": {
        "id": "st-8il1rX4cJ",
        "outputId": "af79f230-b0e6-41a4-a6af-c166471893fb"
      },
      "outputs": [
        {
          "name": "stdout",
          "output_type": "stream",
          "text": [
            "#373028: 0 elements\n",
            "#422811: 4 elements\n",
            "#513B2E: 9 elements\n",
            "#6F503C: 11 elements\n",
            "#81654F: 18 elements\n",
            "#9D7A54: 15 elements\n",
            "#BEA07E: 16 elements\n",
            "#E5C8A6: 13 elements\n",
            "#E7C1B8: 13 elements\n",
            "#F3DAD6: 3 elements\n",
            "#FBF2F3: 4 elements\n"
          ]
        }
      ],
      "source": [
        "for color, elements in color_dict.items():\n",
        "    print(f\"{color}: {len(elements)} elements\")"
      ]
    },
    {
      "cell_type": "code",
      "execution_count": null,
      "metadata": {
        "id": "OMNcWuoIX4cJ",
        "outputId": "76f852fd-5e5d-4238-a7f5-704ac6cf0e7c"
      },
      "outputs": [
        {
          "name": "stdout",
          "output_type": "stream",
          "text": [
            "#BEA07E\n",
            "[[170, 97, 11], [161, 140, 115], [241, 50, 62]]\n"
          ]
        }
      ],
      "source": [
        "#suggest skin tones\n",
        "test_path = './courtney.jpg'\n",
        "skin_tone_data = stone.process(test_path,'color')\n",
        "skin_tone = skin_tone_data['faces'][0]['skin_tone']\n",
        "print(skin_tone)\n",
        "print(random.sample(color_dict[skin_tone],3))"
      ]
    },
    {
      "cell_type": "code",
      "execution_count": null,
      "metadata": {
        "id": "XFZk2A4WX4cJ"
      },
      "outputs": [],
      "source": [
        "json_data = json.dumps(color_dict)\n",
        "\n",
        "# Write JSON data to a file\n",
        "with open('data.json', 'w') as f:\n",
        "    f.write(json_data)"
      ]
    }
  ],
  "metadata": {
    "kernelspec": {
      "display_name": "Python 3.11.9 64-bit",
      "language": "python",
      "name": "python3"
    },
    "language_info": {
      "codemirror_mode": {
        "name": "ipython",
        "version": 3
      },
      "file_extension": ".py",
      "mimetype": "text/x-python",
      "name": "python",
      "nbconvert_exporter": "python",
      "pygments_lexer": "ipython3",
      "version": "3.11.9"
    },
    "orig_nbformat": 4,
    "vscode": {
      "interpreter": {
        "hash": "5c7b89af1651d0b8571dde13640ecdccf7d5a6204171d6ab33e7c296e100e08a"
      }
    },
    "colab": {
      "provenance": [],
      "include_colab_link": true
    }
  },
  "nbformat": 4,
  "nbformat_minor": 0
}